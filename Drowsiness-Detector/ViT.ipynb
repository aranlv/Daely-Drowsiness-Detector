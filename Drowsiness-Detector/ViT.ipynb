{
  "cells": [
    {
      "cell_type": "code",
      "execution_count": 1,
      "metadata": {
        "colab": {
          "base_uri": "https://localhost:8080/"
        },
        "collapsed": true,
        "id": "s6mNUDgiovDe",
        "outputId": "209d0099-1492-42b4-d240-9ae38ee946a9"
      },
      "outputs": [
        {
          "name": "stdout",
          "output_type": "stream",
          "text": [
            "\u001b[2K     \u001b[90m━━━━━━━━━━━━━━━━━━━━━━━━━━━━━━━━━━━━━━━━\u001b[0m \u001b[32m547.8/547.8 kB\u001b[0m \u001b[31m7.1 MB/s\u001b[0m eta \u001b[36m0:00:00\u001b[0m\n",
            "\u001b[2K     \u001b[90m━━━━━━━━━━━━━━━━━━━━━━━━━━━━━━━━━━━━━━━━\u001b[0m \u001b[32m21.3/21.3 MB\u001b[0m \u001b[31m44.4 MB/s\u001b[0m eta \u001b[36m0:00:00\u001b[0m\n",
            "\u001b[2K     \u001b[90m━━━━━━━━━━━━━━━━━━━━━━━━━━━━━━━━━━━━━━━━\u001b[0m \u001b[32m39.9/39.9 MB\u001b[0m \u001b[31m11.9 MB/s\u001b[0m eta \u001b[36m0:00:00\u001b[0m\n",
            "\u001b[2K     \u001b[90m━━━━━━━━━━━━━━━━━━━━━━━━━━━━━━━━━━━━━━━━\u001b[0m \u001b[32m116.3/116.3 kB\u001b[0m \u001b[31m15.6 MB/s\u001b[0m eta \u001b[36m0:00:00\u001b[0m\n",
            "\u001b[2K     \u001b[90m━━━━━━━━━━━━━━━━━━━━━━━━━━━━━━━━━━━━━━━━\u001b[0m \u001b[32m64.9/64.9 kB\u001b[0m \u001b[31m8.2 MB/s\u001b[0m eta \u001b[36m0:00:00\u001b[0m\n",
            "\u001b[2K     \u001b[90m━━━━━━━━━━━━━━━━━━━━━━━━━━━━━━━━━━━━━━━━\u001b[0m \u001b[32m194.1/194.1 kB\u001b[0m \u001b[31m13.8 MB/s\u001b[0m eta \u001b[36m0:00:00\u001b[0m\n",
            "\u001b[2K     \u001b[90m━━━━━━━━━━━━━━━━━━━━━━━━━━━━━━━━━━━━━━━━\u001b[0m \u001b[32m134.8/134.8 kB\u001b[0m \u001b[31m17.7 MB/s\u001b[0m eta \u001b[36m0:00:00\u001b[0m\n",
            "\u001b[?25h\u001b[31mERROR: pip's dependency resolver does not currently take into account all the packages that are installed. This behaviour is the source of the following dependency conflicts.\n",
            "cudf-cu12 24.4.1 requires pyarrow<15.0.0a0,>=14.0.1, but you have pyarrow 17.0.0 which is incompatible.\n",
            "google-colab 1.0.0 requires requests==2.31.0, but you have requests 2.32.3 which is incompatible.\n",
            "ibis-framework 8.0.0 requires pyarrow<16,>=2, but you have pyarrow 17.0.0 which is incompatible.\u001b[0m\u001b[31m\n",
            "\u001b[2K     \u001b[90m━━━━━━━━━━━━━━━━━━━━━━━━━━━━━━━━━━━━━━━━\u001b[0m \u001b[32m76.7/76.7 kB\u001b[0m \u001b[31m2.0 MB/s\u001b[0m eta \u001b[36m0:00:00\u001b[0m\n",
            "\u001b[2K     \u001b[90m━━━━━━━━━━━━━━━━━━━━━━━━━━━━━━━━━━━━━━━━\u001b[0m \u001b[32m178.7/178.7 kB\u001b[0m \u001b[31m11.8 MB/s\u001b[0m eta \u001b[36m0:00:00\u001b[0m\n",
            "\u001b[2K     \u001b[90m━━━━━━━━━━━━━━━━━━━━━━━━━━━━━━━━━━━━━━━━\u001b[0m \u001b[32m54.5/54.5 kB\u001b[0m \u001b[31m5.2 MB/s\u001b[0m eta \u001b[36m0:00:00\u001b[0m\n",
            "\u001b[?25h"
          ]
        }
      ],
      "source": [
        "!pip install split-folders --quiet\n",
        "!pip install torch torchvision transformers datasets --quiet\n",
        "!pip install roboflow --quiet"
      ]
    },
    {
      "cell_type": "code",
      "execution_count": 2,
      "metadata": {
        "colab": {
          "base_uri": "https://localhost:8080/"
        },
        "id": "FOtWZGDUdAiy",
        "outputId": "e08f8249-ee79-497d-945b-0d9d1e5c1b75"
      },
      "outputs": [
        {
          "name": "stdout",
          "output_type": "stream",
          "text": [
            "Mon Jul 22 09:02:11 2024       \n",
            "+---------------------------------------------------------------------------------------+\n",
            "| NVIDIA-SMI 535.104.05             Driver Version: 535.104.05   CUDA Version: 12.2     |\n",
            "|-----------------------------------------+----------------------+----------------------+\n",
            "| GPU  Name                 Persistence-M | Bus-Id        Disp.A | Volatile Uncorr. ECC |\n",
            "| Fan  Temp   Perf          Pwr:Usage/Cap |         Memory-Usage | GPU-Util  Compute M. |\n",
            "|                                         |                      |               MIG M. |\n",
            "|=========================================+======================+======================|\n",
            "|   0  Tesla T4                       Off | 00000000:00:04.0 Off |                    0 |\n",
            "| N/A   38C    P8               9W /  70W |      0MiB / 15360MiB |      0%      Default |\n",
            "|                                         |                      |                  N/A |\n",
            "+-----------------------------------------+----------------------+----------------------+\n",
            "                                                                                         \n",
            "+---------------------------------------------------------------------------------------+\n",
            "| Processes:                                                                            |\n",
            "|  GPU   GI   CI        PID   Type   Process name                            GPU Memory |\n",
            "|        ID   ID                                                             Usage      |\n",
            "|=======================================================================================|\n",
            "|  No running processes found                                                           |\n",
            "+---------------------------------------------------------------------------------------+\n"
          ]
        }
      ],
      "source": [
        "!nvidia-smi"
      ]
    },
    {
      "cell_type": "code",
      "execution_count": 3,
      "metadata": {
        "colab": {
          "base_uri": "https://localhost:8080/"
        },
        "id": "VZQNZcxsZJD4",
        "outputId": "d2519891-56e2-4285-a8e9-ccc283d1e525"
      },
      "outputs": [
        {
          "name": "stdout",
          "output_type": "stream",
          "text": [
            "loading Roboflow workspace...\n",
            "loading Roboflow project...\n"
          ]
        },
        {
          "name": "stderr",
          "output_type": "stream",
          "text": [
            "Downloading Dataset Version Zip in Drowsiness-detection-1 to folder:: 100%|██████████| 316909/316909 [00:12<00:00, 25706.85it/s]"
          ]
        },
        {
          "name": "stdout",
          "output_type": "stream",
          "text": [
            "\n"
          ]
        },
        {
          "name": "stderr",
          "output_type": "stream",
          "text": [
            "\n",
            "Extracting Dataset Version Zip to Drowsiness-detection-1 in folder:: 100%|██████████| 9131/9131 [00:04<00:00, 2053.22it/s]\n"
          ]
        }
      ],
      "source": [
        "from roboflow import Roboflow\n",
        "rf = Roboflow(api_key=\"f92r8UAteQo539m5sPi1\")\n",
        "project = rf.workspace(\"esd-krexe\").project(\"drowsiness-detection-0mcjg\")\n",
        "version = project.version(1)\n",
        "dataset = version.download(\"folder\")"
      ]
    },
    {
      "cell_type": "code",
      "execution_count": 4,
      "metadata": {
        "id": "qy6y3gANZKxI"
      },
      "outputs": [],
      "source": [
        "DATA_DIR = '/content/Drowsiness-detection-1'"
      ]
    },
    {
      "cell_type": "code",
      "execution_count": 1,
      "metadata": {
        "colab": {
          "base_uri": "https://localhost:8080/",
          "height": 156,
          "referenced_widgets": [
            "e8564301c8c344e7be24e96a94e938d5",
            "56f3471ea2ee4439b602e5841e668761",
            "5801f4db61484fa6a97b8743026f5a53",
            "aee9dcf04bdf435ea5f1fa7aef43c87d",
            "0c022257075e4484a134761d5f9abe03",
            "ef77c928d16c457e80095e8df845ef02",
            "cfd4c19c71e04dff9ab5f1cdcf8f86a6",
            "01d87dbf0df641d3b07b541c45cbe300",
            "cfd4d9a5b432418eb3c86e2ad80c92ea",
            "de9725dbf12d416dbd44ebbaf884c535",
            "96e461c1ccec492c86d2fa217c6d55d5"
          ]
        },
        "id": "8YTbXfaIaGWU",
        "outputId": "618a2eb1-a955-47cd-b2b4-6b3d361186b0"
      },
      "outputs": [
        {
          "name": "stderr",
          "output_type": "stream",
          "text": [
            "c:\\anaconda3\\envs\\machine_learning\\Lib\\site-packages\\tqdm\\auto.py:21: TqdmWarning: IProgress not found. Please update jupyter and ipywidgets. See https://ipywidgets.readthedocs.io/en/stable/user_install.html\n",
            "  from .autonotebook import tqdm as notebook_tqdm\n"
          ]
        }
      ],
      "source": [
        "from transformers import ViTImageProcessor\n",
        "\n",
        "processor = ViTImageProcessor.from_pretrained(\"google/vit-base-patch16-224-in21k\")"
      ]
    },
    {
      "cell_type": "code",
      "execution_count": 2,
      "metadata": {
        "id": "bF1BNf8laOUp"
      },
      "outputs": [],
      "source": [
        "from torchvision.transforms import (CenterCrop,\n",
        "                                    Compose,\n",
        "                                    Normalize,\n",
        "                                    RandomHorizontalFlip,\n",
        "                                    RandomResizedCrop,\n",
        "                                    Resize,\n",
        "                                    ToTensor)\n",
        "\n",
        "image_mean, image_std = processor.image_mean, processor.image_std\n",
        "size = processor.size[\"height\"]\n",
        "\n",
        "normalize = Normalize(mean=image_mean, std=image_std)\n",
        "_train_transforms = Compose(\n",
        "        [\n",
        "            RandomResizedCrop(size),\n",
        "            RandomHorizontalFlip(),\n",
        "            ToTensor(),\n",
        "            normalize,\n",
        "        ]\n",
        "    )\n",
        "\n",
        "_val_transforms = Compose(\n",
        "        [\n",
        "            Resize(size),\n",
        "            CenterCrop(size),\n",
        "            ToTensor(),\n",
        "            normalize,\n",
        "        ]\n",
        "    )\n",
        "\n",
        "def train_transforms(image):\n",
        "    return _train_transforms(image.convert(\"RGB\"))\n",
        "\n",
        "def val_transform(image):\n",
        "    return _val_transforms(image.convert(\"RGB\"))"
      ]
    },
    {
      "cell_type": "code",
      "execution_count": 7,
      "metadata": {
        "id": "khXyXMrpU3tJ"
      },
      "outputs": [],
      "source": [
        "import torchvision\n",
        "from torchvision.transforms import ToTensor\n",
        "\n",
        "train_ds = torchvision.datasets.ImageFolder('/content/Drowsiness-detection-1/train/', transform=train_transforms)\n",
        "valid_ds = torchvision.datasets.ImageFolder('/content/Drowsiness-detection-1/valid/', transform=val_transform)\n",
        "test_ds = torchvision.datasets.ImageFolder('/content/Drowsiness-detection-1/test/', transform=val_transform)"
      ]
    },
    {
      "cell_type": "code",
      "execution_count": 19,
      "metadata": {
        "id": "UPBDtuhhdkEp"
      },
      "outputs": [],
      "source": [
        "from transformers import ViTModel\n",
        "import torch.nn as nn\n",
        "\n",
        "class ViTForImageClassification(nn.Module):\n",
        "    def __init__(self, num_labels=3):\n",
        "        super(ViTForImageClassification, self).__init__()\n",
        "        self.vit = ViTModel.from_pretrained('google/vit-base-patch16-224-in21k')\n",
        "        self.dropout = nn.Dropout(0.1)\n",
        "        self.classifier = nn.Linear(self.vit.config.hidden_size, num_labels)\n",
        "        self.num_labels = num_labels\n",
        "\n",
        "    def forward(self, pixel_values, labels):\n",
        "        outputs = self.vit(pixel_values=pixel_values)\n",
        "        output = self.dropout(outputs.last_hidden_state[:,0])\n",
        "        logits = self.classifier(output)\n",
        "\n",
        "        loss = None\n",
        "        if labels is not None:\n",
        "          loss_fct = nn.CrossEntropyLoss()\n",
        "          loss = loss_fct(logits.view(-1, self.num_labels), labels.view(-1))\n",
        "        if loss is not None:\n",
        "          return logits, loss.item()\n",
        "        else:\n",
        "          return logits, None"
      ]
    },
    {
      "cell_type": "code",
      "execution_count": 18,
      "metadata": {
        "id": "rqG5y81Nd7Xd"
      },
      "outputs": [],
      "source": [
        "EPOCHS = 3\n",
        "BATCH_SIZE = 16\n",
        "LEARNING_RATE = 2e-5"
      ]
    },
    {
      "cell_type": "code",
      "execution_count": 176,
      "metadata": {
        "colab": {
          "base_uri": "https://localhost:8080/"
        },
        "id": "MKutOzI5d-c7",
        "outputId": "eab0b003-9205-49f3-9c46-909590d3b9d1"
      },
      "outputs": [
        {
          "data": {
            "text/plain": [
              "<All keys matched successfully>"
            ]
          },
          "execution_count": 176,
          "metadata": {},
          "output_type": "execute_result"
        }
      ],
      "source": [
        "from transformers import ViTFeatureExtractor\n",
        "import torch.nn as nn\n",
        "import torch\n",
        "# Define Model\n",
        "model = ViTForImageClassification(len(train_ds.classes))\n",
        "# Feature Extractor\n",
        "feature_extractor = ViTFeatureExtractor.from_pretrained('google/vit-base-patch16-224-in21k')\n",
        "# Adam Optimizer\n",
        "optimizer = torch.optim.Adam(model.parameters(), lr=LEARNING_RATE)\n",
        "# Cross Entropy Loss\n",
        "loss_func = nn.CrossEntropyLoss()\n",
        "# Use GPU if available\n",
        "device = torch.device('cuda' if torch.cuda.is_available() else 'cpu')\n",
        "if torch.cuda.is_available():\n",
        "    model.cuda()"
      ]
    },
    {
      "cell_type": "code",
      "execution_count": 49,
      "metadata": {
        "colab": {
          "base_uri": "https://localhost:8080/"
        },
        "id": "hGFJViYVgSPT",
        "outputId": "b8cf4337-538f-40a4-ff8a-938e285f9b32"
      },
      "outputs": [
        {
          "name": "stdout",
          "output_type": "stream",
          "text": [
            "Number of train samples:  6384\n",
            "Number of test samples:  912\n",
            "Detected Classes are:  {'Active Subjects': 0, 'Fatigue Subjects': 1}\n"
          ]
        },
        {
          "name": "stderr",
          "output_type": "stream",
          "text": [
            "This DataLoader will create 4 worker processes in total. Our suggested max number of worker in current system is 2, which is smaller than what this DataLoader is going to create. Please be aware that excessive worker creation might get DataLoader running slow or even freeze, lower the worker number to avoid potential slowness/freeze if necessary.\n",
            "os.fork() was called. os.fork() is incompatible with multithreaded code, and JAX is multithreaded, so this will likely lead to a deadlock.\n"
          ]
        },
        {
          "name": "stdout",
          "output_type": "stream",
          "text": [
            "Best model saved with loss: 0.7025\n",
            "Epoch: 0 | Test Loss: 0.7025 | Test Accuracy: 0.50\n",
            "Best model saved with loss: 0.5344\n",
            "Epoch: 0 | Test Loss: 0.5344 | Test Accuracy: 0.75\n",
            "Best model saved with loss: 0.3209\n",
            "Epoch: 0 | Test Loss: 0.3209 | Test Accuracy: 0.94\n",
            "Best model saved with loss: 0.2504\n",
            "Epoch: 0 | Test Loss: 0.2504 | Test Accuracy: 0.94\n",
            "Best model saved with loss: 0.1000\n",
            "Epoch: 0 | Test Loss: 0.1000 | Test Accuracy: 1.00\n",
            "Epoch: 0 | Test Loss: 0.1427 | Test Accuracy: 1.00\n",
            "Best model saved with loss: 0.0749\n",
            "Epoch: 0 | Test Loss: 0.0749 | Test Accuracy: 1.00\n",
            "Epoch: 0 | Test Loss: 0.3590 | Test Accuracy: 0.81\n"
          ]
        },
        {
          "name": "stderr",
          "output_type": "stream",
          "text": [
            "os.fork() was called. os.fork() is incompatible with multithreaded code, and JAX is multithreaded, so this will likely lead to a deadlock.\n"
          ]
        },
        {
          "name": "stdout",
          "output_type": "stream",
          "text": [
            "Epoch: 1 | Test Loss: 0.1318 | Test Accuracy: 0.94\n",
            "Epoch: 1 | Test Loss: 0.1295 | Test Accuracy: 1.00\n",
            "Epoch: 1 | Test Loss: 0.1358 | Test Accuracy: 0.94\n",
            "Best model saved with loss: 0.0611\n",
            "Epoch: 1 | Test Loss: 0.0611 | Test Accuracy: 1.00\n",
            "Epoch: 1 | Test Loss: 0.1215 | Test Accuracy: 0.94\n",
            "Epoch: 1 | Test Loss: 0.1910 | Test Accuracy: 0.94\n",
            "Epoch: 1 | Test Loss: 0.2765 | Test Accuracy: 0.81\n",
            "Best model saved with loss: 0.0212\n",
            "Epoch: 1 | Test Loss: 0.0212 | Test Accuracy: 1.00\n",
            "Epoch: 2 | Test Loss: 0.2062 | Test Accuracy: 0.88\n",
            "Epoch: 2 | Test Loss: 0.0983 | Test Accuracy: 1.00\n",
            "Epoch: 2 | Test Loss: 0.1868 | Test Accuracy: 0.94\n",
            "Epoch: 2 | Test Loss: 0.2214 | Test Accuracy: 0.94\n",
            "Best model saved with loss: 0.0197\n",
            "Epoch: 2 | Test Loss: 0.0197 | Test Accuracy: 1.00\n",
            "Epoch: 2 | Test Loss: 0.1787 | Test Accuracy: 0.88\n",
            "Epoch: 2 | Test Loss: 0.0964 | Test Accuracy: 0.94\n",
            "Epoch: 2 | Test Loss: 0.1769 | Test Accuracy: 0.94\n",
            "Best loss achieved: 0.0197\n"
          ]
        }
      ],
      "source": [
        "import torch.utils.data as data\n",
        "from torch.autograd import Variable\n",
        "import numpy as np\n",
        "\n",
        "print(\"Number of train samples: \", len(train_ds))\n",
        "print(\"Number of test samples: \", len(valid_ds))\n",
        "print(\"Detected Classes are: \", valid_ds.class_to_idx)\n",
        "\n",
        "train_loader = data.DataLoader(train_ds, batch_size=BATCH_SIZE, shuffle=True, num_workers=4)\n",
        "val_loader = data.DataLoader(valid_ds, batch_size=BATCH_SIZE, shuffle=True, num_workers=4)\n",
        "\n",
        "best_loss = float('inf')\n",
        "best_model_state = None\n",
        "\n",
        "patience = 5\n",
        "\n",
        "# Train the model\n",
        "for epoch in range(EPOCHS):\n",
        "    model.train()  # Set model to training mode\n",
        "    for step, (x, y) in enumerate(train_loader):\n",
        "        # Change input array into list with each batch being one element\n",
        "        x = np.split(np.squeeze(np.array(x)), BATCH_SIZE)\n",
        "        # Remove unnecessary dimension\n",
        "        for index, array in enumerate(x):\n",
        "            x[index] = np.squeeze(array)\n",
        "        # Apply feature extractor, stack back into 1 tensor and then convert to tensor\n",
        "        x = torch.tensor(np.stack(x, axis=0))\n",
        "        # Send to GPU if available\n",
        "        x, y = x.to(device), y.to(device)\n",
        "        b_x = Variable(x)   # batch x (image)\n",
        "        b_y = Variable(y)   # batch y (target)\n",
        "        # Feed through model\n",
        "        output, loss = model(b_x, None)\n",
        "        # Calculate loss\n",
        "        if loss is None:\n",
        "            loss = loss_func(output, b_y)\n",
        "            optimizer.zero_grad()\n",
        "            loss.backward()\n",
        "            optimizer.step()\n",
        "        if step % 50 == 0:\n",
        "            # Get the next batch for testing purposes\n",
        "            val = next(iter(val_loader))\n",
        "            val_x = val[0]\n",
        "            # Reshape and get feature matrices as needed\n",
        "            val_x = np.split(np.squeeze(np.array(val_x)), BATCH_SIZE)\n",
        "            for index, array in enumerate(val_x):\n",
        "              val_x[index] = np.squeeze(array)\n",
        "            val_x = torch.tensor(np.stack(val_x, axis=0))\n",
        "            # Send to appropirate computing device\n",
        "            val_x = val_x.to(device)\n",
        "            val_y = val[1].to(device)\n",
        "            # Get output (+ respective class) and compare to target\n",
        "            val_output, loss = model(val_x, val_y)\n",
        "            val_output = val_output.argmax(1)\n",
        "            # Calculate Accuracy\n",
        "            accuracy = (val_output == val_y).sum().item() / BATCH_SIZE\n",
        "            if loss < best_loss:\n",
        "                best_loss = loss\n",
        "                best_model_state = model.state_dict()\n",
        "                torch.save(best_model_state, 'best.pt')\n",
        "                print(f'Best model saved with loss: {best_loss:.4f}')\n",
        "                patience_counter = 0\n",
        "            else:\n",
        "                patience_counter += 1\n",
        "            print(f'Epoch: {epoch} | Val Loss: {loss:.4f} | Val Accuracy: {accuracy:.2f}')\n",
        "            if patience_counter >= patience:\n",
        "              print(f'Early stopping triggered at epoch {epoch}.')\n",
        "              break\n",
        "\n",
        "print(f'Best loss achieved: {best_loss:.4f}')"
      ]
    },
    {
      "cell_type": "code",
      "execution_count": 50,
      "metadata": {
        "colab": {
          "base_uri": "https://localhost:8080/",
          "height": 658
        },
        "id": "UpCnbpz7gXsn",
        "outputId": "0c5f3b9d-047d-48f8-88f6-067f79981d2a"
      },
      "outputs": [
        {
          "name": "stdout",
          "output_type": "stream",
          "text": [
            "Test Loss: 0.1561 | Test Accuracy: 0.94 | F1 Score: 0.94\n"
          ]
        },
        {
          "data": {
            "image/png": "[encoded data removed]",
            "text/plain": [
              "<Figure size 1000x700 with 2 Axes>"
            ]
          },
          "metadata": {},
          "output_type": "display_data"
        }
      ],
      "source": [
        "from sklearn.metrics import f1_score, confusion_matrix\n",
        "import matplotlib.pyplot as plt\n",
        "import seaborn as sns\n",
        "model.load_state_dict(torch.load('best.pt'))\n",
        "model.to(device)\n",
        "model.eval()\n",
        "\n",
        "test_loss = 0.0\n",
        "correct = 0\n",
        "total = 0\n",
        "all_predictions = []\n",
        "all_labels = []\n",
        "eval_loader = data.DataLoader(test_ds, batch_size=1, shuffle=True, num_workers=4)\n",
        "\n",
        "with torch.no_grad():\n",
        "    for x, y in eval_loader:\n",
        "        # Ensure x has the correct shape\n",
        "        if len(x.shape) == 3:\n",
        "            x = x.unsqueeze(0)  # Add batch dimension\n",
        "\n",
        "        x = x.to(device)\n",
        "        y = y.to(device)\n",
        "        output, loss = model(x, y)\n",
        "        test_loss += loss\n",
        "        _, predicted = torch.max(output, 1)\n",
        "        total += y.size(0)\n",
        "        correct += (predicted == y).sum().item()\n",
        "\n",
        "        # Collect predictions and true labels for metrics\n",
        "        all_predictions.extend(predicted.cpu().numpy())\n",
        "        all_labels.extend(y.cpu().numpy())\n",
        "\n",
        "# Average loss and accuracy\n",
        "test_loss /= len(eval_loader)\n",
        "accuracy = correct / total\n",
        "f1 = f1_score(all_labels, all_predictions, average='weighted')\n",
        "conf_matrix = confusion_matrix(all_labels, all_predictions)\n",
        "\n",
        "print(f'Test Loss: {test_loss:.4f} | Test Accuracy: {accuracy:.2f} | F1 Score: {f1:.2f}')\n",
        "\n",
        "# Plot confusion matrix\n",
        "plt.figure(figsize=(10, 7))\n",
        "sns.heatmap(conf_matrix, annot=True, fmt='d', cmap='Blues', xticklabels=train_ds.classes, yticklabels=train_ds.classes)\n",
        "plt.xlabel('Predicted Labels')\n",
        "plt.ylabel('True Labels')\n",
        "plt.title('Confusion Matrix')\n",
        "plt.show()"
      ]
    }
  ],
  "metadata": {
    "accelerator": "GPU",
    "colab": {
      "gpuType": "T4",
      "provenance": []
    },
    "kernelspec": {
      "display_name": "Python 3",
      "name": "python3"
    },
    "language_info": {
      "name": "python",
      "version": "3.12.3"
    },
    "widgets": {
      "application/vnd.jupyter.widget-state+json": {
        "01d87dbf0df641d3b07b541c45cbe300": {
          "model_module": "@jupyter-widgets/base",
          "model_module_version": "1.2.0",
          "model_name": "LayoutModel",
          "state": {
            "_model_module": "@jupyter-widgets/base",
            "_model_module_version": "1.2.0",
            "_model_name": "LayoutModel",
            "_view_count": null,
            "_view_module": "@jupyter-widgets/base",
            "_view_module_version": "1.2.0",
            "_view_name": "LayoutView",
            "align_content": null,
            "align_items": null,
            "align_self": null,
            "border": null,
            "bottom": null,
            "display": null,
            "flex": null,
            "flex_flow": null,
            "grid_area": null,
            "grid_auto_columns": null,
            "grid_auto_flow": null,
            "grid_auto_rows": null,
            "grid_column": null,
            "grid_gap": null,
            "grid_row": null,
            "grid_template_areas": null,
            "grid_template_columns": null,
            "grid_template_rows": null,
            "height": null,
            "justify_content": null,
            "justify_items": null,
            "left": null,
            "margin": null,
            "max_height": null,
            "max_width": null,
            "min_height": null,
            "min_width": null,
            "object_fit": null,
            "object_position": null,
            "order": null,
            "overflow": null,
            "overflow_x": null,
            "overflow_y": null,
            "padding": null,
            "right": null,
            "top": null,
            "visibility": null,
            "width": null
          }
        },
        "0c022257075e4484a134761d5f9abe03": {
          "model_module": "@jupyter-widgets/base",
          "model_module_version": "1.2.0",
          "model_name": "LayoutModel",
          "state": {
            "_model_module": "@jupyter-widgets/base",
            "_model_module_version": "1.2.0",
            "_model_name": "LayoutModel",
            "_view_count": null,
            "_view_module": "@jupyter-widgets/base",
            "_view_module_version": "1.2.0",
            "_view_name": "LayoutView",
            "align_content": null,
            "align_items": null,
            "align_self": null,
            "border": null,
            "bottom": null,
            "display": null,
            "flex": null,
            "flex_flow": null,
            "grid_area": null,
            "grid_auto_columns": null,
            "grid_auto_flow": null,
            "grid_auto_rows": null,
            "grid_column": null,
            "grid_gap": null,
            "grid_row": null,
            "grid_template_areas": null,
            "grid_template_columns": null,
            "grid_template_rows": null,
            "height": null,
            "justify_content": null,
            "justify_items": null,
            "left": null,
            "margin": null,
            "max_height": null,
            "max_width": null,
            "min_height": null,
            "min_width": null,
            "object_fit": null,
            "object_position": null,
            "order": null,
            "overflow": null,
            "overflow_x": null,
            "overflow_y": null,
            "padding": null,
            "right": null,
            "top": null,
            "visibility": null,
            "width": null
          }
        },
        "56f3471ea2ee4439b602e5841e668761": {
          "model_module": "@jupyter-widgets/controls",
          "model_module_version": "1.5.0",
          "model_name": "HTMLModel",
          "state": {
            "_dom_classes": [],
            "_model_module": "@jupyter-widgets/controls",
            "_model_module_version": "1.5.0",
            "_model_name": "HTMLModel",
            "_view_count": null,
            "_view_module": "@jupyter-widgets/controls",
            "_view_module_version": "1.5.0",
            "_view_name": "HTMLView",
            "description": "",
            "description_tooltip": null,
            "layout": "IPY_MODEL_ef77c928d16c457e80095e8df845ef02",
            "placeholder": "​",
            "style": "IPY_MODEL_cfd4c19c71e04dff9ab5f1cdcf8f86a6",
            "value": "preprocessor_config.json: 100%"
          }
        },
        "5801f4db61484fa6a97b8743026f5a53": {
          "model_module": "@jupyter-widgets/controls",
          "model_module_version": "1.5.0",
          "model_name": "FloatProgressModel",
          "state": {
            "_dom_classes": [],
            "_model_module": "@jupyter-widgets/controls",
            "_model_module_version": "1.5.0",
            "_model_name": "FloatProgressModel",
            "_view_count": null,
            "_view_module": "@jupyter-widgets/controls",
            "_view_module_version": "1.5.0",
            "_view_name": "ProgressView",
            "bar_style": "success",
            "description": "",
            "description_tooltip": null,
            "layout": "IPY_MODEL_01d87dbf0df641d3b07b541c45cbe300",
            "max": 160,
            "min": 0,
            "orientation": "horizontal",
            "style": "IPY_MODEL_cfd4d9a5b432418eb3c86e2ad80c92ea",
            "value": 160
          }
        },
        "96e461c1ccec492c86d2fa217c6d55d5": {
          "model_module": "@jupyter-widgets/controls",
          "model_module_version": "1.5.0",
          "model_name": "DescriptionStyleModel",
          "state": {
            "_model_module": "@jupyter-widgets/controls",
            "_model_module_version": "1.5.0",
            "_model_name": "DescriptionStyleModel",
            "_view_count": null,
            "_view_module": "@jupyter-widgets/base",
            "_view_module_version": "1.2.0",
            "_view_name": "StyleView",
            "description_width": ""
          }
        },
        "aee9dcf04bdf435ea5f1fa7aef43c87d": {
          "model_module": "@jupyter-widgets/controls",
          "model_module_version": "1.5.0",
          "model_name": "HTMLModel",
          "state": {
            "_dom_classes": [],
            "_model_module": "@jupyter-widgets/controls",
            "_model_module_version": "1.5.0",
            "_model_name": "HTMLModel",
            "_view_count": null,
            "_view_module": "@jupyter-widgets/controls",
            "_view_module_version": "1.5.0",
            "_view_name": "HTMLView",
            "description": "",
            "description_tooltip": null,
            "layout": "IPY_MODEL_de9725dbf12d416dbd44ebbaf884c535",
            "placeholder": "​",
            "style": "IPY_MODEL_96e461c1ccec492c86d2fa217c6d55d5",
            "value": " 160/160 [00:00&lt;00:00, 3.34kB/s]"
          }
        },
        "cfd4c19c71e04dff9ab5f1cdcf8f86a6": {
          "model_module": "@jupyter-widgets/controls",
          "model_module_version": "1.5.0",
          "model_name": "DescriptionStyleModel",
          "state": {
            "_model_module": "@jupyter-widgets/controls",
            "_model_module_version": "1.5.0",
            "_model_name": "DescriptionStyleModel",
            "_view_count": null,
            "_view_module": "@jupyter-widgets/base",
            "_view_module_version": "1.2.0",
            "_view_name": "StyleView",
            "description_width": ""
          }
        },
        "cfd4d9a5b432418eb3c86e2ad80c92ea": {
          "model_module": "@jupyter-widgets/controls",
          "model_module_version": "1.5.0",
          "model_name": "ProgressStyleModel",
          "state": {
            "_model_module": "@jupyter-widgets/controls",
            "_model_module_version": "1.5.0",
            "_model_name": "ProgressStyleModel",
            "_view_count": null,
            "_view_module": "@jupyter-widgets/base",
            "_view_module_version": "1.2.0",
            "_view_name": "StyleView",
            "bar_color": null,
            "description_width": ""
          }
        },
        "de9725dbf12d416dbd44ebbaf884c535": {
          "model_module": "@jupyter-widgets/base",
          "model_module_version": "1.2.0",
          "model_name": "LayoutModel",
          "state": {
            "_model_module": "@jupyter-widgets/base",
            "_model_module_version": "1.2.0",
            "_model_name": "LayoutModel",
            "_view_count": null,
            "_view_module": "@jupyter-widgets/base",
            "_view_module_version": "1.2.0",
            "_view_name": "LayoutView",
            "align_content": null,
            "align_items": null,
            "align_self": null,
            "border": null,
            "bottom": null,
            "display": null,
            "flex": null,
            "flex_flow": null,
            "grid_area": null,
            "grid_auto_columns": null,
            "grid_auto_flow": null,
            "grid_auto_rows": null,
            "grid_column": null,
            "grid_gap": null,
            "grid_row": null,
            "grid_template_areas": null,
            "grid_template_columns": null,
            "grid_template_rows": null,
            "height": null,
            "justify_content": null,
            "justify_items": null,
            "left": null,
            "margin": null,
            "max_height": null,
            "max_width": null,
            "min_height": null,
            "min_width": null,
            "object_fit": null,
            "object_position": null,
            "order": null,
            "overflow": null,
            "overflow_x": null,
            "overflow_y": null,
            "padding": null,
            "right": null,
            "top": null,
            "visibility": null,
            "width": null
          }
        },
        "e8564301c8c344e7be24e96a94e938d5": {
          "model_module": "@jupyter-widgets/controls",
          "model_module_version": "1.5.0",
          "model_name": "HBoxModel",
          "state": {
            "_dom_classes": [],
            "_model_module": "@jupyter-widgets/controls",
            "_model_module_version": "1.5.0",
            "_model_name": "HBoxModel",
            "_view_count": null,
            "_view_module": "@jupyter-widgets/controls",
            "_view_module_version": "1.5.0",
            "_view_name": "HBoxView",
            "box_style": "",
            "children": [
              "IPY_MODEL_56f3471ea2ee4439b602e5841e668761",
              "IPY_MODEL_5801f4db61484fa6a97b8743026f5a53",
              "IPY_MODEL_aee9dcf04bdf435ea5f1fa7aef43c87d"
            ],
            "layout": "IPY_MODEL_0c022257075e4484a134761d5f9abe03"
          }
        },
        "ef77c928d16c457e80095e8df845ef02": {
          "model_module": "@jupyter-widgets/base",
          "model_module_version": "1.2.0",
          "model_name": "LayoutModel",
          "state": {
            "_model_module": "@jupyter-widgets/base",
            "_model_module_version": "1.2.0",
            "_model_name": "LayoutModel",
            "_view_count": null,
            "_view_module": "@jupyter-widgets/base",
            "_view_module_version": "1.2.0",
            "_view_name": "LayoutView",
            "align_content": null,
            "align_items": null,
            "align_self": null,
            "border": null,
            "bottom": null,
            "display": null,
            "flex": null,
            "flex_flow": null,
            "grid_area": null,
            "grid_auto_columns": null,
            "grid_auto_flow": null,
            "grid_auto_rows": null,
            "grid_column": null,
            "grid_gap": null,
            "grid_row": null,
            "grid_template_areas": null,
            "grid_template_columns": null,
            "grid_template_rows": null,
            "height": null,
            "justify_content": null,
            "justify_items": null,
            "left": null,
            "margin": null,
            "max_height": null,
            "max_width": null,
            "min_height": null,
            "min_width": null,
            "object_fit": null,
            "object_position": null,
            "order": null,
            "overflow": null,
            "overflow_x": null,
            "overflow_y": null,
            "padding": null,
            "right": null,
            "top": null,
            "visibility": null,
            "width": null
          }
        }
      }
    }
  },
  "nbformat": 4,
  "nbformat_minor": 0
}
